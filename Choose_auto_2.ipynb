{
 "cells": [
  {
   "cell_type": "code",
   "execution_count": null,
   "metadata": {},
   "outputs": [],
   "source": [
    "# Подгружаем данные в ~/Desktop, чтобы не менять ссылку в коде\n",
    "!cd ~/Desktop\n",
    "!wget --no-check-certificate 'https://docs.google.com/uc?export=download&id=1IpNZQfchwcGRGZdhbXU4ynpD9py5TDrh' -O data.csv"
   ]
  },
  {
   "cell_type": "code",
   "execution_count": 62,
   "metadata": {},
   "outputs": [],
   "source": [
    "from datetime import datetime\n",
    "import json\n",
    "import matplotlib.pyplot as plt\n",
    "import numpy as np\n",
    "import pandas as pd\n",
    "import os\n",
    "import re\n",
    "import seaborn as sns\n",
    "from sklearn.ensemble import RandomForestRegressor, ExtraTreesRegressor, \\\n",
    "GradientBoostingRegressor, StackingRegressor\n",
    "from sklearn.linear_model import LinearRegression, Lasso, Ridge\n",
    "from sklearn.metrics import mean_absolute_error\n",
    "from sklearn.model_selection import cross_val_score, train_test_split, GridSearchCV\n",
    "from sklearn.preprocessing import StandardScaler, OneHotEncoder, PolynomialFeatures\n",
    "from sklearn.svm import SVR\n",
    "from scipy.sparse import hstack\n",
    "from tqdm import tqdm\n",
    "\n",
    "from catboost import CatBoostRegressor, Pool, cv, FeaturesData\n",
    "\n",
    "%matplotlib inline"
   ]
  },
  {
   "cell_type": "code",
   "execution_count": 7,
   "metadata": {},
   "outputs": [],
   "source": [
    "# собираем DataFrame из скачанных данных (берем последний json, так как в нем максимальное количество собранной\n",
    "# информации)\n",
    "# собирается долго - около 2 часов\n",
    "# после первой сборки - этот блок не нужен\n",
    "\n",
    "# data = pd.DataFrame()\n",
    "# files = os.listdir('../../../Desktop/data/')\n",
    "# with open('../../../Desktop/data/' + files[-1], 'r') as f:\n",
    "#     new_dict = {}\n",
    "#     new_dict = json.loads(f.read(), encoding='mac_cyrillic')\n",
    "#     df = pd.DataFrame()\n",
    "#     i = 0\n",
    "#     for key, val in tqdm(new_dict.items()):\n",
    "#         df.loc[i,'link'] = key\n",
    "#         for k, v in val.items():\n",
    "#             df.loc[i,k] = v\n",
    "#         i += 1\n",
    "#     data = pd.concat([data, df])"
   ]
  },
  {
   "cell_type": "code",
   "execution_count": 8,
   "metadata": {},
   "outputs": [],
   "source": [
    "# сохраняем собранный датасет на диск - чтобы каждый раз не собирать по 2 часа \n",
    "# data.to_csv('~/Desktop/data.csv')"
   ]
  },
  {
   "cell_type": "code",
   "execution_count": 15,
   "metadata": {},
   "outputs": [],
   "source": [
    "# считываем данные, сохраненные на прошлом шаге (так как уже все собрано - начинаем сразу отсюда)\n",
    "data = pd.read_csv('~/Desktop/data.csv', index_col=0, encoding='utf-8')"
   ]
  },
  {
   "cell_type": "markdown",
   "metadata": {},
   "source": [
    "### Предобработка данных"
   ]
  },
  {
   "cell_type": "code",
   "execution_count": 50,
   "metadata": {},
   "outputs": [],
   "source": [
    "# обрабатываем столбцы датасета. Если данных нет - возвращаем None\n",
    "\n",
    "# переводим год в числовой формат (везде float для catboost FeaturesData)\n",
    "def to_int_year(year_row):\n",
    "    return float(year_row)\n",
    "\n",
    "# переводим километраж в числовой формат\n",
    "def to_int_km(kmAge_row):\n",
    "    if not kmAge_row:\n",
    "        return None\n",
    "    regex = re.compile('\\d+')\n",
    "    cleaned_row = ''.join(regex.findall(kmAge_row))\n",
    "    return float(cleaned_row)\n",
    "\n",
    "# разбиваем на 3 колонки информацию по двигателю (объем, мощность в л.с. и тип топлива)\n",
    "def split_engine_col(engine_row):\n",
    "    volume = None\n",
    "    horse_power = None\n",
    "    fuel_type = None\n",
    "    if engine_row == None:\n",
    "        return volume, horse_power, fuel_type\n",
    "    \n",
    "    params = engine_row.split('/')\n",
    "    params_num = len(params)\n",
    "    for p in params:\n",
    "        if ('бензин' in p.lower()) or ('дизел' in p.lower()) or ('газ' in p.lower()):\n",
    "            fuel_type = p\n",
    "        if 'л.' in p.lower():\n",
    "            regex = re.compile('\\d+')\n",
    "            horse_power = float(''.join(regex.findall(p)))\n",
    "        if ' л' in p:\n",
    "            regex = re.compile('\\d+\\.\\d+')\n",
    "            volume = float(''.join(regex.findall(p)))\n",
    "    return [volume, horse_power, fuel_type]\n",
    "\n",
    "# вытаскиваем числа из фразы про стоимость налога (данное поле плохо посчитано у авто.ру и много,\n",
    "# пропусков - его в итоге убрали)\n",
    "def to_int_transptax(transptax_row):\n",
    "    if not transptax_row:\n",
    "        return transptax_row\n",
    "    regex = re.compile('\\d+')\n",
    "    transptax = float(''.join(regex.findall(transptax_row.replace('\\xa0', ' '))))\n",
    "    return transptax\n",
    "\n",
    "# достаем число владельцев\n",
    "def fix_ownersCount(ownersCount_row):\n",
    "    owners_list = ['3 или более', '2 владельца', '1 владелец']\n",
    "    if not ownersCount_row:\n",
    "        return None\n",
    "    if ownersCount_row.replace('\\xa0', ' ') not in owners_list:\n",
    "        ownersCount_row = '3 или более'\n",
    "    return float(ownersCount_row[0])\n",
    "\n",
    "# оставляем информативный кусок pts - поле далее убрано, ухудшает метрики данных\n",
    "def fix_pts(pts_row):\n",
    "    pts_list = ['Оригинал', 'Дубликат', None]\n",
    "    if pts_row not in pts_list:\n",
    "        return 'Оригинал'\n",
    "    return pts_row\n",
    "\n",
    "# оставляем информативный кусок vin - поле далее убрано, ухудшает метрики данных\n",
    "def fix_vin(vin_row):\n",
    "    if not vin_row:\n",
    "        return None\n",
    "    return vin_row.replace('*', '')\n",
    "\n",
    "# считаем время владения автомобилем в днях\n",
    "def calculate_owningTime(owningTime_row):\n",
    "    if not owningTime_row:\n",
    "        return None\n",
    "    regex = re.compile('\\d+ [мес]*[лет]*[год]*')\n",
    "    periods = regex.findall(owningTime_row)\n",
    "    regex_num = re.compile('\\d+')\n",
    "    if len(periods) == 2:\n",
    "        years = int(regex_num.search(periods[0])[0])*365.5\n",
    "        month = int(regex_num.search(periods[1])[0])*30.5\n",
    "        return years + month\n",
    "    elif (len(periods) == 1) and ('мес' in periods[0]):\n",
    "        years = 0\n",
    "        month = int(regex_num.search(periods[0])[0])*30.5\n",
    "        return month\n",
    "    elif (len(periods) == 1) and (('год' in periods[0]) or ('лет' in periods[0])): \n",
    "        years = int(regex_num.search(periods[0])[0])*365.5\n",
    "        month = 0\n",
    "        return years + month\n",
    "\n",
    "# убираем мусор из информации о таможне - поле далее убрано, ухудшает метрики данных\n",
    "def fix_customs(customs_row):\n",
    "    customs_list = ['Растаможен', 'Не растаможен', None]\n",
    "    if customs_row not in customs_list:\n",
    "        return 'Растаможен'\n",
    "    return customs_row\n",
    "\n",
    "# достаем номер региона рег номера - поле далее убрано, ухудшает метрики данных\n",
    "def fix_license_plate(licensePlate_row):\n",
    "    if not licensePlate_row:\n",
    "        return None\n",
    "    return licensePlate_row.split('|')[1]\n",
    "\n",
    "# общая функция для очистки данных от неправильного кодирования\n",
    "def fix_bad_encoding(row):\n",
    "    if not row:\n",
    "        return None\n",
    "    if 'Ð' in row:\n",
    "        return None\n",
    "    return row\n",
    "\n",
    "# очищаем цену от байтовых разделителей (где-то нужно было с кодировкой поработать, но - поезд ушел :) )\n",
    "def fix_price(price_row):\n",
    "    try:\n",
    "        return float(price_row[:-1].replace('\\xa0', ''))\n",
    "    except:\n",
    "        return None\n",
    "\n",
    "# переводим дату публикации в формат unix-timestamp\n",
    "def calculate_publ_date(publication_date):\n",
    "    month_dict = {\n",
    "        'января' : '01',\n",
    "        'февраля' : '02',\n",
    "        'марта' : '03',\n",
    "        'апреля' : '04',\n",
    "        'мая' : '05',\n",
    "        'июня' : '06',\n",
    "        'июля' : '07',\n",
    "        'августа' : '08',\n",
    "        'сентября' : '09',\n",
    "        'октября' : '10',\n",
    "        'ноября' : '11',\n",
    "        'декабря' : '12',\n",
    "    }\n",
    "    \n",
    "    i = 1\n",
    "    for key in month_dict:\n",
    "        if key in publication_date:\n",
    "            break\n",
    "        i += 1\n",
    "        if i > 12:\n",
    "            return None\n",
    "    regex = re.compile('\\d{4}')\n",
    "    year_match = regex.search(publication_date)\n",
    "    if not year_match:\n",
    "        year = ' 2020'\n",
    "        publication_date = publication_date + year\n",
    "    \n",
    "    for key in month_dict:\n",
    "        if key in publication_date:\n",
    "            pub_date = publication_date.replace(key, month_dict[key])    \n",
    "    date = datetime.strptime(pub_date, '%d %m %Y').timestamp()\n",
    "    return date\n",
    "\n",
    "# достаем инфо о количестве просмотров\n",
    "def fix_views(views_row):\n",
    "    if not views_row:\n",
    "        return None\n",
    "    return float(views_row.split()[0])\n",
    "\n",
    "# достаем название бренда, модели и модификации из поля model_name\n",
    "def split_brand_model(model_row):\n",
    "    fix_list = [\n",
    "    '«Чайка»',\n",
    "    '«Волга»',\n",
    "    'Siber',\n",
    "    '«Победа»',\n",
    "    'Defender',\n",
    "    'Discovery',\n",
    "    'Freelander',\n",
    "    'Range Rover',\n",
    "    'Granta',\n",
    "    'Kalina',\n",
    "    'Largus',\n",
    "    'Priora',\n",
    "    'Vesta',\n",
    "    'Vitara',\n",
    "    'Picasso',\n",
    "    'Cherokee',\n",
    "    'Series',\n",
    "    'WRX',\n",
    "    'Lancaster',\n",
    "    '(ВАЗ)',\n",
    "    ]\n",
    "    brand, model, modif = model_row.split()[0].strip(), model_row.split()[1].strip(), ' '.join(model_row.split()[2:])\n",
    "    if brand == 'Land':\n",
    "        brand += ' Rover'\n",
    "        model = model.replace('Rover', '').strip()\n",
    "    \n",
    "    modif = modif.strip()\n",
    "    for part in fix_list:\n",
    "        if part in modif:\n",
    "            modif = modif.replace(part, '').strip()\n",
    "            model = (model + ' ' + part).strip()\n",
    "    return [brand, model, modif]\n",
    "\n",
    "# функция, суммирующая все предыдущие\n",
    "def clear_data(data_df):\n",
    "    data_new = pd.DataFrame()\n",
    "    data_new['year'] = data_df['year'].apply(to_int_year)\n",
    "    data_new['kmAge'] = data_df['kmAge'].apply(to_int_km)\n",
    "    data_new['bodytype'] = data_df['bodytype'].apply(fix_bad_encoding)\n",
    "    data_new['color'] = data_df['color'].apply(fix_bad_encoding)\n",
    "    \n",
    "    # делаем сразу 3 поля\n",
    "    engine_data = pd.DataFrame(data_df['engine'].apply(split_engine_col).tolist(), \n",
    "                               columns=['engine_vol','engine_hp','engine_fuel'],\n",
    "                               index=data_df.index)\n",
    "    data_new = pd.concat([data_new, engine_data], axis=1)\n",
    "    \n",
    "    data_new['transmission'] = data_df['transmission'].apply(fix_bad_encoding)\n",
    "    data_new['wheel'] = data_df['wheel'].apply(fix_bad_encoding)\n",
    "    data_new['state'] = data_df['state'].apply(fix_bad_encoding)\n",
    "    data_new['ownersCount'] = data_df['ownersCount'].apply(fix_ownersCount)\n",
    "    data_new['pts'] = data_df['pts'].apply(fix_pts)\n",
    "    data_new['owningTime'] = data_df['owningTime'].apply(calculate_owningTime)\n",
    "    data_new['customs'] = data_df['customs'].apply(fix_customs)\n",
    "    data_new['vin'] = data_df['vin'].apply(fix_vin)\n",
    "    data_new['licensePlate'] = data_df['licensePlate'].apply(fix_license_plate)\n",
    "    data_new['model_name'] = data_df['model_name'].apply(fix_bad_encoding)\n",
    "    data_new['price'] = data_df['price'].apply(fix_price)\n",
    "    data_new['publication_date'] = data_df['publication_date'].apply(calculate_publ_date)\n",
    "    data_new['photo_count'] = data_df['photo_count']\n",
    "    not_na_cols = ['year', 'kmAge', 'model_name', 'price']\n",
    "    \n",
    "    # делаем сразу 3 поля\n",
    "    brand_model = pd.DataFrame(data_df['model_name'].apply(split_brand_model).tolist(), \n",
    "                               columns=['brand','model','modification'],\n",
    "                               index=data_df.index)\n",
    "    data_new = pd.concat([data_new, brand_model], axis=1)\n",
    "    data_new['km_per_year'] = data_new['kmAge']/(2020.1 - data_new['year'])\n",
    "    data_new['km_per_owner'] = data_new['kmAge']/data_new['ownersCount']\n",
    "    data_new['publ_since'] = datetime.timestamp(datetime.now()) - data_new['publication_date']\n",
    "    data_new[['engine_vol', 'engine_hp']].fillna(data_new[['engine_vol', 'engine_hp']].mean(), inplace=True)\n",
    "    data_new['hp_per_vol'] = data_new['engine_hp']/data_new['engine_vol']\n",
    " \n",
    "    data_new.dropna(subset=not_na_cols, inplace=True)\n",
    "    return data_new"
   ]
  },
  {
   "cell_type": "code",
   "execution_count": 51,
   "metadata": {
    "scrolled": true
   },
   "outputs": [
    {
     "name": "stderr",
     "output_type": "stream",
     "text": [
      "/Users/maksim/opt/anaconda3/lib/python3.7/site-packages/pandas/core/frame.py:4317: SettingWithCopyWarning: \n",
      "A value is trying to be set on a copy of a slice from a DataFrame\n",
      "\n",
      "See the caveats in the documentation: https://pandas.pydata.org/pandas-docs/stable/user_guide/indexing.html#returning-a-view-versus-a-copy\n",
      "  downcast=downcast,\n",
      "/Users/maksim/opt/anaconda3/lib/python3.7/site-packages/pandas/core/series.py:4523: SettingWithCopyWarning: \n",
      "A value is trying to be set on a copy of a slice from a DataFrame\n",
      "\n",
      "See the caveats in the documentation: https://pandas.pydata.org/pandas-docs/stable/user_guide/indexing.html#returning-a-view-versus-a-copy\n",
      "  downcast=downcast,\n"
     ]
    }
   ],
   "source": [
    "# удаляем строки, где нет ключевых данных\n",
    "data_no_na = data.dropna(subset=['year', 'price', 'model_name', 'kmAge', 'engine'])\n",
    "\n",
    "# убираем неудобный для if/else 'nan', меняем его на False\n",
    "data_no_na.fillna(False, inplace=True)\n",
    "\n",
    "# очищенный датасет\n",
    "final_data = clear_data(data_no_na)"
   ]
  },
  {
   "cell_type": "code",
   "execution_count": 52,
   "metadata": {},
   "outputs": [],
   "source": [
    "# числовые и категориальные столбцы\n",
    "numeric_features = ['year', 'kmAge', 'ownersCount', 'km_per_year', 'km_per_owner',\n",
    "                    'photo_count', 'engine_vol', 'engine_hp', 'publication_date']\n",
    "cat_features =[\n",
    "    'model_name',\n",
    "    'bodytype',\n",
    "    'color',\n",
    "    'transmission',\n",
    "    'brand',\n",
    "    'model',\n",
    "    'modification',\n",
    "    'engine_fuel'\n",
    "]\n",
    "\n",
    "# выделяем признаки\n",
    "X = final_data.drop(['price'], axis=1)\n",
    "\n",
    "# считаем средние значения и самые частотные значения для числовых и категориальных данных\n",
    "numeric_features_mean = final_data[numeric_features].mean().astype('float32')\n",
    "cat_features_mostfreq = final_data[cat_features].mode(0).iloc[0]\n",
    "\n",
    "# заполняем пустоты средними значениями для числовых данных\n",
    "# заполняем пустоты наиболее частотными значениями для категориальных данных\n",
    "X[numeric_features] = X[numeric_features].fillna(numeric_features_mean).astype('float32')\n",
    "X[cat_features] = X[cat_features].fillna(cat_features_mostfreq)\n",
    "\n",
    "# выделяем target\n",
    "y = final_data.price"
   ]
  },
  {
   "cell_type": "code",
   "execution_count": 53,
   "metadata": {},
   "outputs": [],
   "source": [
    "# ручная чистка от выбросов - решения sklern типа DBScan, Isolated tree и др не дали хороших результатов\n",
    "\n",
    "# находим индексы раритетных авто\n",
    "year_outliers_indx = list(X.year[X.year < 1980.0].index)\n",
    "\n",
    "# находим индексы выбросов с очень большим пробегом\n",
    "kmAge_peaks_indx = list(X.kmAge[X.kmAge > 8e5].index)\n",
    "\n",
    "# убираем редкие нецелевые виды кузова\n",
    "bodytype_names = X.bodytype.value_counts().iloc[12:].index\n",
    "bodytype_outliers = ['тент', 'промтоварный автофургон', 'изотермический фургон',\n",
    "       'рефрижератор', 'бортовой грузовик',\n",
    "       'купе-хардтоп', 'внедорожник открытый', 'эвакуатор',\n",
    "       'фургон для торговли', 'скорая помощь',\n",
    "       'кэмпер', 'микровэн', 'тарга', 'седан-хардтоп',\n",
    "       'шасси', 'самосвал', 'лимузин', 'цистерна',\n",
    "       'самосвал с 2-х разгрузкой']\n",
    "bodytype_outliers_index = list(X[X.bodytype.isin(bodytype_outliers)].index)\n",
    "\n",
    "# находим индексы выбросов по объему двигателя\n",
    "engine_hp_outliers_indx = list(X.engine_hp[(X.engine_hp < 50) | (X.engine_hp > 1500)].index)\n",
    "\n",
    "# находим индексы очень редких видов топлива\n",
    "engine_fuel_outliers = list(X.engine_fuel.value_counts().iloc[4:].index)\n",
    "engine_fuel_outliers_index = list(X[X.engine_fuel.isin(engine_fuel_outliers)].index)\n",
    "\n",
    "# находим индексы ошибочных объемов\n",
    "engine_vol_outliers_indx = list(X.engine_vol[(X.engine_vol > 7.0) | (X.engine_vol < 0.5)].index)\n",
    "\n",
    "# находим устаревший редкий термин трансмиссии - видимо старая категория на авто.ру\n",
    "transmission_outliers_indx = list(X.transmission[X.transmission == 'робот'].index)\n",
    "\n",
    "# видимо среднее значение по ownersCount - почему-то убрал....\n",
    "owners_count_outliers_index = list(X.ownersCount[X.ownersCount == 2.1904449462890625].index)\n",
    "\n",
    "# ошибочная цена в 68 000 000 за какой-то Форд Куга...\n",
    "price_outliers_index = list(y[(y>3e7)].index)# | (y<1e5)].index)\n",
    "\n",
    "# публикации, которые были сделаны до 2016 года - тоже убираем\n",
    "pub_date_outliers_index = list(X[X.publication_date < 1451595600.0].index)\n",
    "\n",
    "# суммируем все индексы\n",
    "outliers_indx = list(set(year_outliers_indx + kmAge_peaks_indx + bodytype_outliers_index +\n",
    "                         engine_hp_outliers_indx + engine_fuel_outliers_index + engine_vol_outliers_indx + \n",
    "                         transmission_outliers_indx + owners_count_outliers_index + price_outliers_index +\n",
    "                         pub_date_outliers_index\n",
    "))\n",
    "\n",
    "# итогам первых прогонов - поля ниже - портят данные, без них метрики лучше\n",
    "# вычищаем все данные с индексами = outlier index\n",
    "X_cleaned = X.drop(['wheel', 'customs', 'vin','owningTime', \n",
    "                    'state'], axis=1).drop(outliers_indx)\n",
    "\n",
    "# вычищаем все данные с индексами = outlier index\n",
    "# логарифмируем target\n",
    "y_cleaned = final_data.price.drop(outliers_indx).apply(np.log)"
   ]
  },
  {
   "cell_type": "code",
   "execution_count": 57,
   "metadata": {},
   "outputs": [
    {
     "data": {
      "image/png": "[encoded data removed]",
      "text/plain": [
       "<Figure size 1440x720 with 1 Axes>"
      ]
     },
     "metadata": {
      "needs_background": "light"
     },
     "output_type": "display_data"
    }
   ],
   "source": [
    "# target после логарифмирования - купол и совсем другие данные по MAPE\n",
    "fig, ax = plt.subplots(figsize=(20, 10))\n",
    "final_data.price.drop(outliers_indx).hist(bins=100);"
   ]
  },
  {
   "cell_type": "code",
   "execution_count": 61,
   "metadata": {},
   "outputs": [
    {
     "data": {
      "image/png": "[encoded data removed]",
      "text/plain": [
       "<Figure size 1440x720 with 1 Axes>"
      ]
     },
     "metadata": {
      "needs_background": "light"
     },
     "output_type": "display_data"
    }
   ],
   "source": [
    "fig, ax = plt.subplots(figsize=(20, 10))\n",
    "y_cleaned.hist(bins=100);"
   ]
  },
  {
   "cell_type": "code",
   "execution_count": 37,
   "metadata": {},
   "outputs": [],
   "source": [
    "# для обучения брал выборки в 5-10%\n",
    "X_cleaned_sample = X_cleaned.sample(frac=1.0, random_state=42)\n",
    "y_cleaned_sample = y_cleaned.sample(frac=1.0, random_state=42)\n",
    "\n",
    "scaler = StandardScaler()\n",
    "encoder = OneHotEncoder()\n",
    "\n",
    "# PolyFeatures не помогают, как показала практика\n",
    "# poly = PolynomialFeatures()\n",
    "# X_poly = poly.fit_transform(X_cleaned_sample[numeric_features])\n",
    "\n",
    "# скелим числовые данные\n",
    "X_num = scaler.fit_transform(X_cleaned_sample[numeric_features])\n",
    "# делаем OHE для категориальных данных\n",
    "X_cat = encoder.fit_transform(X_cleaned_sample[cat_features])\n",
    "\n",
    "# стыкуем все\n",
    "X = hstack((X_num, X_cat))"
   ]
  },
  {
   "cell_type": "markdown",
   "metadata": {},
   "source": [
    "### Моделирование"
   ]
  },
  {
   "cell_type": "code",
   "execution_count": 38,
   "metadata": {},
   "outputs": [],
   "source": [
    "# хотел сделать через cross_val - но target нужно вытаскивать из логарифма, поэтому scoring получается кастомный\n",
    "# как сделать cross_val на кастомном scoring - пока не умею\n",
    "# поэтому делаем православный train_test_split\n",
    "\n",
    "X_train, X_test, y_train, y_test = train_test_split(X, y_cleaned_sample, \n",
    "                                                    test_size=0.3, shuffle=True, random_state=42)"
   ]
  },
  {
   "cell_type": "code",
   "execution_count": 39,
   "metadata": {},
   "outputs": [],
   "source": [
    "# гиперпараметры подобраны множеством попыток\n",
    "cb = CatBoostRegressor(depth=7, iterations=10000, learning_rate=0.045, verbose=False)\n",
    "\n",
    "cb.fit(X_train, y_train)\n",
    "y_pred = cb.predict(X_test)\n",
    "\n",
    "# считаем наш кастомный mape, восстанавливая target из логарифма\n",
    "mape = (abs(np.exp(y_pred) - np.exp(y_test))/np.exp(y_test)).mean()\n",
    "\n",
    "\n",
    "# то же можно сделать с помощью FeaturesData/Pool - с моим неумением тюнить CatBoost разницы не увидел\n",
    "\n",
    "# X_cleaned_sample = X_cleaned.sample(frac=0.99, random_state=42)\n",
    "# y_cleaned_sample = y_cleaned.sample(frac=0.99, random_state=42)\n",
    "# X_train, X_test, y_train, y_test = train_test_split(X_cleaned_sample, y_cleaned_sample, test_size=0.3, shuffle=True)\n",
    "\n",
    "# X_train_fd = FeaturesData(num_feature_data=X_train[numeric_features].values, \n",
    "#                           cat_feature_data=X_train[cat_features].values,\n",
    "#                           num_feature_names=numeric_features,\n",
    "#                           cat_feature_names=cat_features)\n",
    "# X_test_fd = FeaturesData(num_feature_data=X_test[numeric_features].values, \n",
    "#                          cat_feature_data=X_test[cat_features].values,\n",
    "#                          num_feature_names=numeric_features,\n",
    "#                          cat_feature_names=cat_features)\n",
    "# X_train_pool = Pool(data=X_train_fd, label=y_train)\n",
    "# X_test_pool = Pool(data=X_test_fd, label=y_test)\n",
    "\n",
    "# cb.fit(X_train_pool)\n",
    "# y_pred = cb.predict(X_test_pool)\n",
    "# (abs(np.exp(y_pred) - np.exp(y_test))/np.exp(y_test)).mean()"
   ]
  },
  {
   "cell_type": "markdown",
   "metadata": {},
   "source": [
    "### Результат"
   ]
  },
  {
   "cell_type": "code",
   "execution_count": 40,
   "metadata": {},
   "outputs": [
    {
     "name": "stdout",
     "output_type": "stream",
     "text": [
      "MAPE = 0.12656742777779523\n"
     ]
    }
   ],
   "source": [
    "print(f'MAPE = {mape}')"
   ]
  },
  {
   "cell_type": "markdown",
   "metadata": {},
   "source": [
    "### ДОПОЛНЕНИЯ"
   ]
  },
  {
   "cell_type": "code",
   "execution_count": null,
   "metadata": {},
   "outputs": [],
   "source": [
    "# Можно запустить Catboost через Pool - в целом тот же результат\n",
    "# Сделал проверку MAPE xthtp"
   ]
  },
  {
   "cell_type": "code",
   "execution_count": null,
   "metadata": {},
   "outputs": [],
   "source": [
    "X_cleaned_sample = X_cleaned.sample(frac=0.99, random_state=42)\n",
    "y_cleaned_sample = y_cleaned.sample(frac=0.99, random_state=42)\n",
    "\n",
    "X_cleaned_fd = FeaturesData(num_feature_data=X_cleaned_sample[numeric_features].values, \n",
    "                    cat_feature_data = X_cleaned_sample[cat_features].values,\n",
    "                    num_feature_names = numeric_features,\n",
    "                    cat_feature_names = cat_features)\n",
    "\n",
    "\n",
    "data_pool = Pool(data=X_cleaned_fd, label=y_cleaned_sample)\n",
    "reg = CatBoostRegressor()\n",
    "\n",
    "# Опять же - можено нельзя поставить кастомный scoring (или можно - но не знаю как)\n",
    "params = {\"iterations\": 10000,\n",
    "          \"depth\": 7,\n",
    "          \"learning_rate\": 0.045,\n",
    "          \"loss_function\": \"MAE\",\n",
    "          \"verbose\": False}"
   ]
  },
  {
   "cell_type": "code",
   "execution_count": null,
   "metadata": {},
   "outputs": [],
   "source": [
    "scores = cv(data_pool,\n",
    "            params,\n",
    "            fold_count=3, \n",
    "            plot=\"True\")"
   ]
  },
  {
   "cell_type": "code",
   "execution_count": null,
   "metadata": {},
   "outputs": [],
   "source": [
    "# проверка других моделей на кроссвалидации на встроенном MAE (который ввиду логарифмироания не имеет никакого\n",
    "# физического смысла, но уменьшать его можно)"
   ]
  },
  {
   "cell_type": "code",
   "execution_count": null,
   "metadata": {},
   "outputs": [],
   "source": [
    "# оооочень долго учится лес. Невыносимо, часа 4-5 на 10 000 деревьев\n",
    "regressor = RandomForestRegressor(random_state=42)\n",
    "params = {\n",
    "    'n_estimators' : [5000],# 10000],\n",
    "    'max_depth' : [30],\n",
    "    'criterion' : ['mse']\n",
    "}\n",
    "\n",
    "gs = GridSearchCV(regressor, param_grid=params, scoring='neg_mean_absolute_error', cv=5, n_jobs=-1)\n",
    "gs.fit(X, y_cleaned_sample)\n",
    "\n",
    "print(gs.best_params_)\n",
    "print(f'MAE = {-gs.best_score_}')"
   ]
  },
  {
   "cell_type": "code",
   "execution_count": null,
   "metadata": {},
   "outputs": [],
   "source": [
    "# почему-то учится еще дольше, чем лес\n",
    "regressor = ExtraTreesRegressor(random_state=42)\n",
    "params = {\n",
    "    'n_estimators' : [300, 1000],# 5000],\n",
    "    'max_depth' : [100],\n",
    "    'criterion' : ['mae']\n",
    "}\n",
    "\n",
    "gs = GridSearchCV(regressor, param_grid=params, scoring='neg_mean_absolute_error', cv=5, n_jobs=-1)\n",
    "gs.fit(X, y_cleaned_sample)\n",
    "\n",
    "print(gs.best_params_)\n",
    "print(f'MAE = {-gs.best_score_}')"
   ]
  },
  {
   "cell_type": "code",
   "execution_count": null,
   "metadata": {},
   "outputs": [],
   "source": [
    "# на удивления помогли деревья нестандартной глубины (глубина 7 работает лучше чем дефолтная 3) и нужно\n",
    "# много деревьев - 10 000 - лучший cross-val\n",
    "regressor = CatBoostRegressor()\n",
    "params = {'depth':[3, 6, 7, 8],\n",
    "          'iterations':[10000, 15000, 20000],\n",
    "          'learning_rate':[0.05, 0.07, 0.1]}\n",
    "\n",
    "gs = GridSearchCV(regressor, param_grid=params, scoring='neg_mean_absolute_error', cv=5, n_jobs=-1)\n",
    "gs.fit(X, y_cleaned_sample)\n",
    "\n",
    "print(gs.best_params_)\n",
    "print(f'MAE = {-gs.best_score_}')"
   ]
  },
  {
   "cell_type": "code",
   "execution_count": null,
   "metadata": {},
   "outputs": [],
   "source": [
    "# долго и результат хуже, чем у Catboost\n",
    "\n",
    "regressor = GradientBoostingRegressor(random_state=42)\n",
    "params = {\n",
    "    'n_estimators' : [2000],\n",
    "    'max_depth' : [3],\n",
    "    'learning_rate' : [0.1, 0.2]\n",
    "}\n",
    "\n",
    "gs = GridSearchCV(regressor, param_grid=params, scoring='neg_mean_absolute_error', cv=5, n_jobs=-1)\n",
    "gs.fit(X, y_cleaned_sample)\n",
    "\n",
    "print(gs.best_params_)\n",
    "print(f'MAE = {-gs.best_score_}')"
   ]
  },
  {
   "cell_type": "code",
   "execution_count": null,
   "metadata": {},
   "outputs": [],
   "source": [
    "# Результат как у регрессий, но на больших данных SVR закончит вычисления \"никогда\" на моем ноутбуке\n",
    "\n",
    "regressor = SVR()\n",
    "params = {\n",
    "    'C': [0.25],\n",
    "    'kernel': ['linear'],\n",
    "}\n",
    "\n",
    "gs = GridSearchCV(regressor, param_grid=params, scoring='neg_mean_absolute_error', cv=5, n_jobs=-1)\n",
    "gs.fit(X, y_cleaned_sample)\n",
    "\n",
    "print(gs.best_params_)\n",
    "print(f'MAE = {-gs.best_score_}')"
   ]
  },
  {
   "cell_type": "code",
   "execution_count": null,
   "metadata": {},
   "outputs": [],
   "source": [
    "# очень быстро, но результат хуже, чем у CatBoost - 0.155 против 0.125\n",
    "\n",
    "regressor = Lasso()\n",
    "params = {\n",
    "    'alpha': [7e-5]\n",
    "}\n",
    "\n",
    "gs = GridSearchCV(regressor, param_grid=params, scoring='neg_mean_absolute_error', cv=5, n_jobs=-1)\n",
    "gs.fit(X, y_cleaned_sample)\n",
    "\n",
    "print(gs.best_params_)\n",
    "print(f'MAE = {-gs.best_score_}')"
   ]
  },
  {
   "cell_type": "code",
   "execution_count": null,
   "metadata": {},
   "outputs": [],
   "source": [
    "# результат чуть хуже, чем у Lasso\n",
    "\n",
    "regressor = Ridge()\n",
    "params = {\n",
    "    'alpha': [1.5]\n",
    "}\n",
    "\n",
    "gs = GridSearchCV(regressor, param_grid=params, scoring='neg_mean_absolute_error', cv=5, n_jobs=-1)\n",
    "gs.fit(X, y_cleaned_sample)\n",
    "\n",
    "print(gs.best_params_)\n",
    "print(f'MAE = {-gs.best_score_}')"
   ]
  },
  {
   "cell_type": "code",
   "execution_count": null,
   "metadata": {},
   "outputs": [],
   "source": [
    "# Слабее Lasso, Ridge\n",
    "\n",
    "regressor = LinearRegression()\n",
    "params = {\n",
    "    'fit_intercept': [True, False]\n",
    "}\n",
    "\n",
    "gs = GridSearchCV(regressor, param_grid=params, scoring='neg_mean_absolute_error', cv=5, n_jobs=-1)\n",
    "gs.fit(X, y_cleaned_sample)\n",
    "\n",
    "print(gs.best_params_)\n",
    "print(f'MAE = {-gs.best_score_}')"
   ]
  },
  {
   "cell_type": "code",
   "execution_count": null,
   "metadata": {},
   "outputs": [],
   "source": [
    "# записал рзультаты эстиматоров на кросс-валидации по MAE по логарифмированному target"
   ]
  },
  {
   "cell_type": "code",
   "execution_count": null,
   "metadata": {},
   "outputs": [],
   "source": [
    "\"\"\"\"\n",
    "Random Forest\n",
    "{'criterion': 'mse', 'max_depth': 30, 'n_estimators': 5000}\n",
    "MAE = 0.18613126948166414\n",
    "\n",
    "Extra Trees\n",
    "{'criterion': 'mae', 'max_depth': 100, 'n_estimators': 50}\n",
    "MAE = 0.17843565781992193\n",
    "\n",
    "Linear Regression\n",
    "{'fit_intercept': True}\n",
    "MAE = 0.16166042820598073\n",
    "\n",
    "Ridge\n",
    "{'alpha': 2}\n",
    "MAE = 0.1549745451687659\n",
    "\n",
    "Lasso\n",
    "{'alpha': 7e-05}\n",
    "MAE = 0.15383390684128465\n",
    "\n",
    "SVR\n",
    "{'C': 0.25, 'kernel': 'linear'}\n",
    "MAE = 0.15392866099694105\n",
    "\n",
    "GradientBoost\n",
    "{'max_depth': 5, 'n_estimators': 500}\n",
    "MAE = 0.1667841712619347"
   ]
  },
  {
   "cell_type": "code",
   "execution_count": null,
   "metadata": {},
   "outputs": [],
   "source": [
    "# пробовал стекинг - результат хуже, чем у отдельных моделей. "
   ]
  },
  {
   "cell_type": "code",
   "execution_count": null,
   "metadata": {},
   "outputs": [],
   "source": [
    "regressors = [\n",
    "    ('Ridge', Ridge(alpha=1.5)),\n",
    "    ('Lasso', Lasso(alpha=2)),\n",
    "    ('Linear', LinearRegression())\n",
    "]\n",
    "final_estimator = CatBoostRegressor(depth=7, iterations=10000, learning_rate=0.1)\n",
    "# final_estimator = RandomForestRegressor(max_depth=30, n_estimators=5000)\n",
    "# final_estimator = GradientBoostingRegressor(max_depth=7, n_estimators=2000)"
   ]
  },
  {
   "cell_type": "code",
   "execution_count": null,
   "metadata": {},
   "outputs": [],
   "source": [
    "stack_regr = StackingRegressor(estimators=regressors, final_estimator=final_estimator, \n",
    "                                             cv=5, n_jobs=-1)\n",
    "mae = cross_val_score(estimator=stack_regr, X=X, y=y_cleaned_sample, scoring='neg_mean_absolute_error', cv=5, n_jobs=-1)"
   ]
  },
  {
   "cell_type": "code",
   "execution_count": null,
   "metadata": {},
   "outputs": [],
   "source": []
  }
 ],
 "metadata": {
  "kernelspec": {
   "display_name": "Python 3",
   "language": "python",
   "name": "python3"
  },
  "language_info": {
   "codemirror_mode": {
    "name": "ipython",
    "version": 3
   },
   "file_extension": ".py",
   "mimetype": "text/x-python",
   "name": "python",
   "nbconvert_exporter": "python",
   "pygments_lexer": "ipython3",
   "version": "3.7.7"
  }
 },
 "nbformat": 4,
 "nbformat_minor": 4
}
